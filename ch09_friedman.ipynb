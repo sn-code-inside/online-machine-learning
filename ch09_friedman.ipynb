{
 "cells": [
  {
   "cell_type": "raw",
   "metadata": {},
   "source": [
    "---\n",
    "title: \"Chapter 9\"\n",
    "format: html\n",
    "---"
   ]
  },
  {
   "cell_type": "markdown",
   "metadata": {},
   "source": [
    "This notebook is part of the supplementary material of the books \"Online Machine Learning - Eine praxisorientiere Einführung\",  \n",
    "https://link.springer.com/book/9783658425043 and \"Online Machine Learning - A Practical Guide with Examples in Python\" https://link.springer.com/book/9789819970063\n",
    "The contents are open source and published under the \"BSD 3-Clause License\".\n",
    "This software is provided \"as is\" without warranty of any kind, either express or implied, including but not limited to implied warranties of merchantability and fitness for a particular purpose. The author or authors assume no liability for any damages or liability, whether in contract, tort, or otherwise, arising out of or in connection with the software or the use or other dealings with the software."
   ]
  },
  {
   "attachments": {},
   "cell_type": "markdown",
   "metadata": {},
   "source": [
    "# Chapter 9: Friedman Drift \n",
    "\n",
    "* Consider Global Recurring Abrupt Drift:\n"
   ]
  },
  {
   "cell_type": "raw",
   "metadata": {},
   "source": [
    "def _global_recurring_abrupt_gen(self, x, index: int):\n",
    "        if index < self._change_point1 or index >= self._change_point2:\n",
    "            # The initial concept is recurring\n",
    "            return (\n",
    "                10 * math.sin(math.pi * x[0] * x[1]) + 20 * (x[2] - 0.5) ** 2 + 10 * x[3] + 5 * x[4]\n",
    "            )\n",
    "        else:\n",
    "            # Drift: the positions of the features are swapped\n",
    "            return (\n",
    "                10 * math.sin(math.pi * x[3] * x[5]) + 20 * (x[1] - 0.5) ** 2 + 10 * x[0] + 5 * x[2]\n",
    "            )"
   ]
  },
  {
   "cell_type": "code",
   "execution_count": null,
   "metadata": {},
   "outputs": [],
   "source": [
    "import numpy as np\n",
    "import pandas as pd\n",
    "from spotRiver.evaluation.eval_oml import eval_oml_iter_progressive, plot_oml_iter_progressive\n",
    "from spotRiver.evaluation.eval_bml import eval_bml_horizon, eval_bml_landmark, eval_bml_window, eval_oml_horizon, plot_bml_oml_horizon_predictions, plot_bml_oml_horizon_metrics\n",
    "from spotRiver.utils.data_conversion import convert_to_df\n",
    "from river import metrics as river_metrics, compose, feature_extraction, linear_model, preprocessing, stats\n",
    "from river import stream as river_stream\n",
    "from river import preprocessing as river_preprocessing\n",
    "from river.datasets import synth\n",
    "from river.tree import HoeffdingTreeRegressor, HoeffdingAdaptiveTreeRegressor\n",
    "from sklearn.tree import DecisionTreeRegressor\n",
    "from sklearn.linear_model import LinearRegression\n",
    "from sklearn.datasets import make_regression\n",
    "from sklearn import preprocessing as preprocessing_sklearn\n",
    "from sklearn import tree as sklearn_tree\n",
    "from sklearn.pipeline import Pipeline\n",
    "from sklearn.preprocessing import MinMaxScaler\n",
    "from sklearn.pipeline import make_pipeline\n",
    "from sklearn.metrics import mean_absolute_error\n",
    "import os\n",
    "if not os.path.exists('./figures'):\n",
    "    os.makedirs('./figures')"
   ]
  },
  {
   "attachments": {},
   "cell_type": "markdown",
   "metadata": {},
   "source": [
    "### Metric and Horizon"
   ]
  },
  {
   "cell_type": "code",
   "execution_count": null,
   "metadata": {},
   "outputs": [],
   "source": [
    "metric = mean_absolute_error\n",
    "horizon = 7*24\n",
    "k = 10\n",
    "n_total = int(k*100_000)\n",
    "p_1 = int(k*25_000)\n",
    "p_2 = int(k*50_000)\n",
    "position=(p_1, p_2)\n",
    "n_train = 1_000\n",
    "a = n_train + p_1 - 12\n",
    "b = a + 12"
   ]
  },
  {
   "attachments": {},
   "cell_type": "markdown",
   "metadata": {},
   "source": [
    "### Data: Friedman-Drift"
   ]
  },
  {
   "cell_type": "code",
   "execution_count": null,
   "metadata": {},
   "outputs": [],
   "source": [
    "dataset = synth.FriedmanDrift(\n",
    "   drift_type='gra',\n",
    "   position=position,\n",
    "     seed=123\n",
    ")\n",
    "data_dict = {key: [] for key in list(dataset.take(1))[0][0].keys()}\n",
    "data_dict[\"y\"] = []\n",
    "for x, y in dataset.take(n_total):\n",
    "    for key, value in x.items():\n",
    "        data_dict[key].append(value)\n",
    "    data_dict[\"y\"].append(y)\n",
    "df = pd.DataFrame(data_dict)\n",
    "# Add column names x1 until x10 to the first 10 columns of the dataframe and the column name y to the last column\n",
    "df.columns = [f\"x{i}\" for i in range(1, 11)] + [\"y\"]\n"
   ]
  },
  {
   "cell_type": "code",
   "execution_count": null,
   "metadata": {},
   "outputs": [],
   "source": [
    "train = df[:n_train]\n",
    "test = df[n_train:]\n",
    "target_column = \"y\""
   ]
  },
  {
   "attachments": {},
   "cell_type": "markdown",
   "metadata": {},
   "source": [
    "### BML: Linear Regression"
   ]
  },
  {
   "cell_type": "code",
   "execution_count": null,
   "metadata": {},
   "outputs": [],
   "source": [
    "bml_lm = LinearRegression()\n",
    "# Add a MinMaxScaler to the pipeline\n",
    "bml_lm = make_pipeline(MinMaxScaler(), bml_lm)"
   ]
  },
  {
   "cell_type": "code",
   "execution_count": null,
   "metadata": {},
   "outputs": [],
   "source": [
    "df_eval_bml_lm, df_true_bml_lm = eval_bml_horizon(model = bml_lm,\n",
    "                            train = train,\n",
    "                            test = test,\n",
    "                            target_column=target_column,\n",
    "                            horizon=horizon, include_remainder=True, metric=metric)"
   ]
  },
  {
   "attachments": {},
   "cell_type": "markdown",
   "metadata": {},
   "source": [
    "### BML: Decision Tree Regressor"
   ]
  },
  {
   "cell_type": "code",
   "execution_count": null,
   "metadata": {},
   "outputs": [],
   "source": [
    "bml_tree = DecisionTreeRegressor(random_state=0)\n",
    "# Add a MinMaxScaler to the pipeline\n",
    "bml_tree = make_pipeline(MinMaxScaler(), bml_tree)\n",
    "df_eval_bml_tree, df_true_bml_tree = eval_bml_horizon(model = bml_tree,\n",
    "                            train = train,\n",
    "                            test = test,\n",
    "                            target_column=target_column,\n",
    "                            horizon=horizon, include_remainder=True, metric=metric)"
   ]
  },
  {
   "attachments": {},
   "cell_type": "markdown",
   "metadata": {},
   "source": [
    "### OML: Linear Regression"
   ]
  },
  {
   "cell_type": "code",
   "execution_count": null,
   "metadata": {},
   "outputs": [],
   "source": [
    "oml_lm = preprocessing.StandardScaler()\n",
    "oml_lm |= linear_model.LinearRegression()\n",
    "\n",
    "df_eval_oml_lm, df_true_oml_lm = eval_oml_horizon(model=oml_lm, train=train, test=test, target_column=\"y\", horizon=horizon, metric=metric)"
   ]
  },
  {
   "attachments": {},
   "cell_type": "markdown",
   "metadata": {},
   "source": [
    "### OML: HTR"
   ]
  },
  {
   "cell_type": "code",
   "execution_count": null,
   "metadata": {},
   "outputs": [],
   "source": [
    "htr_model =   (preprocessing.StandardScaler() | HoeffdingTreeRegressor())\n",
    "df_eval_htr, df_true_htr = eval_oml_horizon(model=htr_model, train=train, test=test, target_column=\"y\", horizon=horizon, oml_grace_period=100, metric=metric)"
   ]
  },
  {
   "attachments": {},
   "cell_type": "markdown",
   "metadata": {},
   "source": [
    "### OML: HATR"
   ]
  },
  {
   "cell_type": "code",
   "execution_count": null,
   "metadata": {},
   "outputs": [],
   "source": [
    "hatr_model =   (preprocessing.StandardScaler() | HoeffdingAdaptiveTreeRegressor())\n",
    "df_eval_hatr, df_true_hatr = eval_oml_horizon(model=hatr_model, train=train, test=test, target_column=\"y\", horizon=horizon, oml_grace_period=100,metric=metric)"
   ]
  },
  {
   "attachments": {},
   "cell_type": "markdown",
   "metadata": {},
   "source": [
    "Note: The following figure are used in the book: (fig-ch09_friedman_1_000_000_metrics and fig-ch09_friedman_1_000_000_predictions)."
   ]
  },
  {
   "cell_type": "code",
   "execution_count": null,
   "metadata": {},
   "outputs": [],
   "source": [
    "df_labels=[\"bml_lm\", \"bml_tree\", \"oml_lm\", \"htr\", \"hatr\"]\n",
    "plot_bml_oml_horizon_metrics(df_eval = [df_eval_bml_lm, df_eval_bml_tree, df_eval_oml_lm, df_eval_htr, df_eval_hatr], log_y=False, log_x=False, df_labels=df_labels, cumulative=True, metric=metric, figsize=(10, 5), filename=\"./figures/ch09_friedman_1_000_000_metrics.pdf\")\n",
    "plot_bml_oml_horizon_predictions(df_true = [df_true_bml_lm[a:b], df_true_bml_tree[a:b], df_true_oml_lm[a:b], df_true_htr[a:b], df_true_hatr[a:b]], target_column=\"y\",  df_labels=df_labels, filename=\"./figures/ch09_friedman_1_000_000_predictions.pdf\")"
   ]
  },
  {
   "cell_type": "code",
   "execution_count": null,
   "metadata": {},
   "outputs": [],
   "source": []
  },
  {
   "cell_type": "code",
   "execution_count": null,
   "metadata": {},
   "outputs": [],
   "source": []
  }
 ],
 "metadata": {
  "kernelspec": {
   "display_name": "spotCondaEnv",
   "language": "python",
   "name": "python3"
  },
  "language_info": {
   "codemirror_mode": {
    "name": "ipython",
    "version": 3
   },
   "file_extension": ".py",
   "mimetype": "text/x-python",
   "name": "python",
   "nbconvert_exporter": "python",
   "pygments_lexer": "ipython3",
   "version": "3.10.12"
  },
  "orig_nbformat": 4
 },
 "nbformat": 4,
 "nbformat_minor": 2
}
