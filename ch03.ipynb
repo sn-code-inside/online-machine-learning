{
 "cells": [
  {
   "cell_type": "raw",
   "metadata": {},
   "source": [
    "---\n",
    "title: \"Chapter 3\"\n",
    "format: html\n",
    "---"
   ]
  },
  {
   "cell_type": "markdown",
   "metadata": {},
   "source": [
    "This notebook is part of the supplementary material of the books \"Online Machine Learning - Eine praxisorientiere Einführung\",  \n",
    "https://link.springer.com/book/9783658425043 and \"Online Machine Learning - A Practical Guide with Examples in Python\" https://link.springer.com/book/9789819970063\n",
    "The contents are open source and published under the \"BSD 3-Clause License\".\n",
    "This software is provided \"as is\" without warranty of any kind, either express or implied, including but not limited to implied warranties of merchantability and fitness for a particular purpose. The author or authors assume no liability for any damages or liability, whether in contract, tort, or otherwise, arising out of or in connection with the software or the use or other dealings with the software."
   ]
  },
  {
   "cell_type": "markdown",
   "metadata": {},
   "source": [
    "# Chapter 3: Drift Detection and Handling"
   ]
  },
  {
   "cell_type": "code",
   "execution_count": null,
   "metadata": {},
   "outputs": [],
   "source": [
    "import matplotlib.pyplot as plt\n",
    "from matplotlib import gridspec\n",
    "import numpy as np\n",
    "\n",
    "from sklearn.preprocessing import MinMaxScaler\n",
    "from river import drift as riverdrift"
   ]
  },
  {
   "attachments": {},
   "cell_type": "markdown",
   "metadata": {},
   "source": [
    "# Concept Drift\n"
   ]
  },
  {
   "cell_type": "code",
   "execution_count": null,
   "metadata": {},
   "outputs": [],
   "source": [
    "import random\n",
    "\n",
    "rng = random.Random(12345)\n",
    "\n",
    "data_stream = []\n",
    "for i in range(10000):\n",
    "    if i < 3000:\n",
    "        data_stream.append(rng.uniform(0, 1))\n",
    "    elif i < 6000:\n",
    "        data_stream.append(rng.uniform(2, 3))\n",
    "    else:\n",
    "        data_stream.append(rng.uniform(0, 1))\n",
    "## plot the data stream using points\n",
    "plt.figure(figsize=(20, 5))\n",
    "plt.plot(data_stream, '-')\n",
    "plt.title(\"Data Stream\")\n",
    "plt.show()\n",
    "\n",
    "\n"
   ]
  },
  {
   "attachments": {},
   "cell_type": "markdown",
   "metadata": {},
   "source": [
    "* Auxiliary function `plot_data_drift` for visualizing drift detection:"
   ]
  },
  {
   "cell_type": "code",
   "execution_count": null,
   "metadata": {},
   "outputs": [],
   "source": [
    "def plot_data_drift(y, drifts=None):\n",
    "    fig = plt.figure(figsize=(7,3), tight_layout=True)\n",
    "    ax1 = plt.subplot(111)\n",
    "    ax1.grid()\n",
    "    ax1.plot(y, label='Stream', marker='o', linewidth=.001, markersize=0.1)    \n",
    "    if drifts is not None:\n",
    "        for drift_detected in drifts:\n",
    "            ax1.axvline(drift_detected, color='red')\n",
    "    plt.show()"
   ]
  },
  {
   "attachments": {},
   "cell_type": "markdown",
   "metadata": {},
   "source": [
    "## ADWIN: Adaptive Windowing Method for Concept Drift Detection.\n",
    "\n",
    "* ADWIN (ADAptive WINDowing) is a popular drift detection method.\n",
    "* The ADWIN drift detector indicates after each sample whether there is any drift in the data.\n",
    "* ADWIN maintains a window $W$ with variable length of the last elements.\n",
    "* This window is further divided into two subwindows, $(W_0, W_1)$, to determine if a change has occurred. To do this, ADWIN compares the mean of the data in $W_0$ and in $W_1$.\n",
    "* Concept drift is detected when the mean values are no longer equal.\n",
    "* If drift was detected, then $W_0$ is replaced by $W_1$ and $W_1$ is reinitialized.\n",
    "* ADWIN uses a significance value $\\delta \\in (0,1)$ to determine if the two subwindows follow the same distribution."
   ]
  },
  {
   "cell_type": "code",
   "execution_count": null,
   "metadata": {},
   "outputs": [],
   "source": [
    "drift_detector = riverdrift.ADWIN(delta=1e-15)\n",
    "drifts = []\n",
    "\n",
    "for i, val in enumerate(data_stream):\n",
    "    drift_detector.update(val)   \n",
    "    if drift_detector.drift_detected:        \n",
    "        print(f'Change detected at index {i}')\n",
    "        drifts.append(i)\n",
    "plot_data_drift(y=data_stream, drifts=drifts)"
   ]
  },
  {
   "attachments": {},
   "cell_type": "markdown",
   "metadata": {},
   "source": [
    "## Influence of the significance value\n",
    "\n",
    "* The drift detection strongly depends on the significance value $\\delta$, as the following example shows:"
   ]
  },
  {
   "cell_type": "code",
   "execution_count": null,
   "metadata": {},
   "outputs": [],
   "source": [
    "drift_detector = riverdrift.ADWIN(delta=1e-4, grace_period = 10)\n",
    "drifts = []\n",
    "\n",
    "for i, val in enumerate(data_stream):\n",
    "    drift_detector.update(val)   \n",
    "    if drift_detector.drift_detected:        \n",
    "        print(f'Change detected at index {i}')\n",
    "        drifts.append(i)\n",
    "plot_data_drift(y=data_stream, drifts=drifts)"
   ]
  },
  {
   "attachments": {},
   "cell_type": "markdown",
   "metadata": {},
   "source": [
    "## Synthetic Drift with Three Distributions"
   ]
  },
  {
   "cell_type": "code",
   "execution_count": null,
   "metadata": {},
   "outputs": [],
   "source": [
    "import numpy as np\n",
    "import matplotlib.pyplot as plt\n",
    "from matplotlib import gridspec\n",
    "# Generate data for 3 distributions\n",
    "random_state = np.random.RandomState(seed=42)\n",
    "dist_a = random_state.normal(0.8, 0.05, 1000)\n",
    "dist_b = random_state.normal(0.4, 0.02, 1000)\n",
    "dist_c = random_state.normal(0.6, 0.1, 1000)\n",
    "\n",
    "# Concatenate data to stream\n",
    "stream = np.concatenate((dist_a, dist_b, dist_c))\n",
    "def plot_data(stream, dist_a, dist_b, dist_c, drifts=None):\n",
    "    fig = plt.figure(figsize=(7,3), tight_layout=True)\n",
    "    gs = gridspec.GridSpec(1, 2, width_ratios=[3, 1])\n",
    "    ax1, ax2 = plt.subplot(gs[0]), plt.subplot(gs[1])\n",
    "    ax1.grid()\n",
    "    ax1.plot(stream, label='Stream')\n",
    "    ax2.grid(axis='y')\n",
    "    ax2.hist(dist_a, label=r'$dist_a$')\n",
    "    ax2.hist(dist_b, label=r'$dist_b$')\n",
    "    ax2.hist(dist_c, label=r'$dist_c$')\n",
    "    if drifts is not None:\n",
    "        for drift_detected in drifts:\n",
    "            ax1.axvline(drift_detected, color='red')\n",
    "    plt.show()\n",
    "    fig.savefig('ch01_drift_3.pdf', format='pdf', dpi=300)\n",
    "\n",
    "plot_data(stream, dist_a, dist_b, dist_c)"
   ]
  },
  {
   "cell_type": "code",
   "execution_count": null,
   "metadata": {},
   "outputs": [],
   "source": [
    "import numpy as np\n",
    "import matplotlib.pyplot as plt\n",
    "from matplotlib import gridspec\n",
    "from river import drift\n",
    "from matplotlib.collections import LineCollection\n",
    "\n",
    "# Generate data for 3 distributions\n",
    "random_state = np.random.RandomState(seed=42)\n",
    "dist_a = random_state.normal(0.8, 0.05, 1000)\n",
    "dist_b = random_state.normal(0.4, 0.02, 1000)\n",
    "dist_c = random_state.normal(0.6, 0.1, 1000)\n",
    "\n",
    "# Concatenate data to simulate a data stream with 2 drifts\n",
    "stream = np.concatenate((dist_a, dist_b, dist_c))"
   ]
  },
  {
   "attachments": {},
   "cell_type": "markdown",
   "metadata": {},
   "source": [
    "### Auxiliary function to plot the data"
   ]
  },
  {
   "cell_type": "code",
   "execution_count": null,
   "metadata": {},
   "outputs": [],
   "source": [
    "def plot_data(stream, dist_a, dist_b, dist_c, drifts=None, color_set=(\"black\", \"gray\", \"blue\"), figname=None):\n",
    "    fig = plt.figure(figsize=(7,3), tight_layout=True)\n",
    "    gs = gridspec.GridSpec(1, 2, width_ratios=[3, 1])\n",
    "    ax1, ax2 = plt.subplot(gs[0]), plt.subplot(gs[1])\n",
    "    ax1.grid()\n",
    "    n_a = len(dist_a)\n",
    "    n_b = len(dist_b)\n",
    "    n_c = len(dist_c)\n",
    "    points = np.array([np.arange(n_a+n_b+n_c), stream]).T.reshape(-1, 1, 2)\n",
    "    segments = np.concatenate([points[:-1], points[1:]], axis=1)\n",
    "    colors = [color_set[0]]*n_a + [color_set[1]]*n_b + [color_set[2]]*n_c\n",
    "    lc = LineCollection(segments, colors=colors)\n",
    "    ax1.add_collection(lc)\n",
    "    ax1.autoscale()\n",
    "    ax2.grid(axis='y')\n",
    "    ax2.hist(dist_a, color=color_set[0], label=r'$dist_a$')\n",
    "    ax2.hist(dist_b, color=color_set[1], label=r'$dist_b$')\n",
    "    ax2.hist(dist_c, color=color_set[2], label=r'$dist_c$')\n",
    "    if drifts is not None:\n",
    "        for drift_detected in drifts:\n",
    "            ax1.axvline(drift_detected, color='green')\n",
    "    plt.show()\n",
    "    if figname is not None:\n",
    "        fig.savefig(figname, format='pdf', dpi=300)\n"
   ]
  },
  {
   "cell_type": "code",
   "execution_count": null,
   "metadata": {},
   "outputs": [],
   "source": [
    "from river import drift\n",
    "\n",
    "drift_detector = drift.ADWIN()\n",
    "drifts = []\n",
    "\n",
    "for i, val in enumerate(stream):\n",
    "    drift_detector.update(val)   # Data is processed one sample at a time\n",
    "    if drift_detector.drift_detected:\n",
    "        # The drift detector indicates after each sample if there is a drift in the data\n",
    "        print(f'Change detected at index {i}')\n",
    "        drifts.append(i)\n",
    "plot_data(stream, dist_a, dist_b, dist_c, drifts=drifts, figname='ch03_drift_3_adwin.pdf')"
   ]
  },
  {
   "attachments": {},
   "cell_type": "markdown",
   "metadata": {},
   "source": [
    "## Synthetically Generated Drift Data: Friedman Drift"
   ]
  },
  {
   "cell_type": "code",
   "execution_count": null,
   "metadata": {},
   "outputs": [],
   "source": [
    "from river import drift\n",
    "import numpy as np\n",
    "import matplotlib.pyplot as plt\n",
    "from matplotlib import gridspec\n",
    "from river.datasets import synth\n",
    "\n",
    "dataset = synth.FriedmanDrift(\n",
    "     drift_type='gra',\n",
    "     position=(1_000, 2_000),\n",
    "     seed=42)\n",
    "\n",
    "stream = []\n",
    "for x, y in dataset.take(3_000):\n",
    "  stream.append(y)\n",
    "stream = np.array(stream)\n",
    "# print(stream)"
   ]
  },
  {
   "cell_type": "code",
   "execution_count": null,
   "metadata": {},
   "outputs": [],
   "source": [
    "drift_detector = drift.ADWIN()\n",
    "drifts = []\n",
    "\n",
    "for i, val in enumerate(stream):\n",
    "    drift_detector.update(val)   # Data is processed one sample at a time\n",
    "    if drift_detector.drift_detected:\n",
    "        # The drift detector indicates after each sample if there is a drift in the data\n",
    "        print(f'Change detected at index {i}')\n",
    "        drifts.append(i)"
   ]
  },
  {
   "attachments": {},
   "cell_type": "markdown",
   "metadata": {},
   "source": [
    "## Synthetically Generated Drift Data: SEA Drift"
   ]
  },
  {
   "cell_type": "code",
   "execution_count": null,
   "metadata": {},
   "outputs": [],
   "source": [
    "import copy\n",
    "import pandas as pd\n",
    "import warnings\n",
    "import numbers\n",
    "import json\n",
    "import calendar\n",
    "import math\n",
    "import datetime as dt\n",
    "import numpy as np\n",
    "from numpy import power\n",
    "from math import inf\n",
    "import matplotlib.pyplot as plt\n",
    "import river.stream as river_stream\n",
    "from river.tree.splitter import EBSTSplitter, QOSplitter, TEBSTSplitter, GaussianSplitter, HistogramSplitter\n",
    "from river.linear_model import LinearRegression, PARegressor, Perceptron\n",
    "from river.tree import HoeffdingAdaptiveTreeRegressor\n",
    "from river.tree import HoeffdingAdaptiveTreeClassifier\n",
    "from river.preprocessing import StandardScaler\n",
    "from river.compose import Pipeline\n",
    "from river import compose\n",
    "from river import datasets, time_series, utils, compose, linear_model, optim, preprocessing, evaluate, metrics, tree \n",
    "from river.datasets import synth\n",
    "from river import feature_extraction\n",
    "from river import stats, compose, preprocessing, tree\n",
    "from river import metrics\n",
    "from river.datasets import synth\n",
    "from river import drift\n",
    "from river import drift\n",
    "import numpy as np\n",
    "import matplotlib.pyplot as plt\n",
    "from matplotlib import gridspec\n",
    "from river.datasets import synth\n",
    "\n",
    "from sklearn.preprocessing import OneHotEncoder , MinMaxScaler\n",
    "from sklearn.linear_model import RidgeCV\n",
    "from sklearn.pipeline import make_pipeline , Pipeline\n",
    "from sklearn.preprocessing import OrdinalEncoder\n",
    "from sklearn.compose import ColumnTransformer\n",
    "from sklearn.ensemble import HistGradientBoostingRegressor\n",
    "from sklearn.model_selection import cross_validate\n",
    "from sklearn.datasets import fetch_openml\n",
    "from sklearn.metrics import accuracy_score\n",
    "warnings.filterwarnings(\"ignore\")"
   ]
  },
  {
   "cell_type": "code",
   "execution_count": null,
   "metadata": {},
   "outputs": [],
   "source": [
    "metric = accuracy_score\n",
    "# metric = f1_score\n",
    "horizon = 7*24\n",
    "k = 1\n",
    "n_total = int(k*100_000)\n",
    "n_samples = n_total\n",
    "position = int(k*25_000)\n",
    "width = int(n_total/250)\n",
    "n_train = 1_000\n",
    "a = n_train + position - 50\n",
    "b = a + 50\n",
    "gen_1 = synth.ConceptDriftStream(\n",
    "        stream=synth.SEA(seed=42, variant=0),\n",
    "        drift_stream=synth.SEA(seed=42, variant=1),\n",
    "                               seed=1, position=position, width=width)\n",
    "gen_2 = synth.ConceptDriftStream(\n",
    "        stream=synth.SEA(seed=42, variant=2),\n",
    "        drift_stream=synth.SEA(seed=42, variant=3),\n",
    "                               seed=1, position=position, width=width)\n",
    "dataset = synth.ConceptDriftStream(stream=gen_1, drift_stream=gen_2, seed=1, position=2*position, width=width)\n",
    "data_dict = {key: [] for key in list(dataset.take(1))[0][0].keys()}\n",
    "data_dict[\"y\"] = []\n",
    "for x, y in dataset.take(n_total):\n",
    "    for key, value in x.items():\n",
    "        data_dict[key].append(value)\n",
    "    data_dict[\"y\"].append(y)\n",
    "df = pd.DataFrame(data_dict)\n",
    "# Add column names x1 until x10 to the first 10 columns of the dataframe and the column name y to the last column\n",
    "df.columns = [f\"x{i}\" for i in range(1, 4)] + [\"y\"]\n",
    "df = df.apply(lambda x: x.astype(int) if x.dtype == bool else x)\n",
    "train = df[:n_train]\n",
    "test = df[n_train:]\n",
    "target_column = \"y\""
   ]
  },
  {
   "attachments": {},
   "cell_type": "markdown",
   "metadata": {},
   "source": [
    "## Gradual Drift: df2"
   ]
  },
  {
   "cell_type": "code",
   "execution_count": null,
   "metadata": {},
   "outputs": [],
   "source": [
    "metric = accuracy_score\n",
    "# metric = f1_score\n",
    "horizon = 7*24\n",
    "k = 1\n",
    "n_total = int(k*100_000)\n",
    "n_samples = n_total\n",
    "position = int(k*25_000)\n",
    "width = int(n_total/5)\n",
    "n_train = 1_000\n",
    "a = n_train + position - 50\n",
    "b = a + 50\n",
    "gen_1 = synth.ConceptDriftStream(\n",
    "        stream=synth.SEA(seed=42, variant=0),\n",
    "        drift_stream=synth.SEA(seed=42, variant=1),\n",
    "                               seed=1, position=position, width=width)\n",
    "gen_2 = synth.ConceptDriftStream(\n",
    "        stream=synth.SEA(seed=42, variant=2),\n",
    "        drift_stream=synth.SEA(seed=42, variant=3),\n",
    "                               seed=1, position=position, width=width)\n",
    "dataset = synth.ConceptDriftStream(stream=gen_1, drift_stream=gen_2, seed=1, position=2*position, width=width)\n",
    "data_dict = {key: [] for key in list(dataset.take(1))[0][0].keys()}\n",
    "data_dict[\"y\"] = []\n",
    "for x, y in dataset.take(n_total):\n",
    "    for key, value in x.items():\n",
    "        data_dict[key].append(value)\n",
    "    data_dict[\"y\"].append(y)\n",
    "df2 = pd.DataFrame(data_dict)\n",
    "# Add column names x1 until x10 to the first 10 columns of the dataframe and the column name y to the last column\n",
    "df2.columns = [f\"x{i}\" for i in range(1, 4)] + [\"y\"]\n",
    "df2 = df2.apply(lambda x: x.astype(int) if x.dtype == bool else x)\n",
    "train = df2[:n_train]\n",
    "test = df2[n_train:]\n",
    "target_column = \"y\""
   ]
  },
  {
   "cell_type": "code",
   "execution_count": null,
   "metadata": {},
   "outputs": [],
   "source": [
    "(position, width)"
   ]
  },
  {
   "cell_type": "code",
   "execution_count": null,
   "metadata": {},
   "outputs": [],
   "source": [
    "def plot_sea_data(stream1, stream2=None, drifts=None, filename=None):\n",
    "    fig = plt.figure(figsize=(7,3), tight_layout=True)\n",
    "    # plot the y values of the samples in the df dataframe using a sliding window of 1000 samples\n",
    "    stream1[\"y\"].rolling(2500).mean().plot(color=\"black\", label=\"SEA with abrupt drift\")\n",
    "    if stream2 is not None:\n",
    "        stream2[\"y\"].rolling(2500).mean().plot(color=\"grey\", label=\"SEA with gradual drift\")\n",
    "    plt.axvline(position, color=\"red\")\n",
    "    plt.axvline(2*position, color=\"red\")\n",
    "    plt.axvline(3*position, color=\"red\")\n",
    "    # Use values from the drifts list to plot vertical lines\n",
    "    if drifts:\n",
    "        for i in drifts:\n",
    "            plt.axvline(i, color=\"green\")\n",
    "    plt.legend()\n",
    "    plt.show()\n",
    "    if filename:\n",
    "        fig.savefig(filename, format='pdf', dpi=300)"
   ]
  },
  {
   "cell_type": "code",
   "execution_count": null,
   "metadata": {},
   "outputs": [],
   "source": [
    "stream = df[\"y\"].rolling(2500).mean()\n",
    "stream = stream[2500:]\n",
    "drift_detector = drift.ADWIN(delta=1e-9, clock=100, min_window_length=500)\n",
    "drifts = []\n",
    "\n",
    "for i, val in enumerate(stream):\n",
    "    drift_detector.update(val)   # Data is processed one sample at a time\n",
    "    if drift_detector.drift_detected:\n",
    "        # The drift detector indicates after each sample if there is a drift in the data\n",
    "        print(f'Change detected at index {i}')\n",
    "        drifts.append(i)\n",
    "drifts"
   ]
  },
  {
   "cell_type": "code",
   "execution_count": null,
   "metadata": {},
   "outputs": [],
   "source": [
    "plot_sea_data(df, stream2=None, drifts=drifts, filename='ch03_drift_sea_adwin.pdf')"
   ]
  },
  {
   "cell_type": "code",
   "execution_count": null,
   "metadata": {},
   "outputs": [],
   "source": []
  }
 ],
 "metadata": {
  "kernelspec": {
   "display_name": "spotCondaEnv",
   "language": "python",
   "name": "python3"
  },
  "language_info": {
   "codemirror_mode": {
    "name": "ipython",
    "version": 3
   },
   "file_extension": ".py",
   "mimetype": "text/x-python",
   "name": "python",
   "nbconvert_exporter": "python",
   "pygments_lexer": "ipython3",
   "version": "3.10.12"
  },
  "orig_nbformat": 4
 },
 "nbformat": 4,
 "nbformat_minor": 2
}
